{
 "cells": [
  {
   "cell_type": "markdown",
   "id": "53d5ce85",
   "metadata": {},
   "source": [
    "\n",
    "# Topic Modeling with LDA and NMF\n",
    "\n",
    "This project explores **Topic Modeling** techniques using **Latent Dirichlet Allocation (LDA)** and **Non-Negative Matrix Factorization (NMF)** on a dataset of Quora questions. The goal is to uncover 20 distinct topics and compare the results of both models.\n",
    "\n",
    "---\n"
   ]
  },
  {
   "cell_type": "code",
   "execution_count": 1,
   "id": "05df4129",
   "metadata": {},
   "outputs": [],
   "source": [
    "\n",
    "# Importing Libraries\n",
    "import pandas as pd\n",
    "import numpy as np\n",
    "import matplotlib.pyplot as plt\n",
    "import seaborn as sns\n",
    "from sklearn.feature_extraction.text import CountVectorizer, TfidfVectorizer\n",
    "from sklearn.decomposition import LatentDirichletAllocation, NMF\n",
    "from wordcloud import WordCloud\n",
    "    "
   ]
  },
  {
   "cell_type": "markdown",
   "id": "43c77647",
   "metadata": {},
   "source": [
    "\n",
    "## 🔍 Data Overview\n",
    "\n",
    "The dataset contains over 400,000 Quora questions. Let's load the dataset and explore its structure.\n"
   ]
  },
  {
   "cell_type": "code",
   "execution_count": 2,
   "id": "f05c6cde",
   "metadata": {},
   "outputs": [
    {
     "name": "stdout",
     "output_type": "stream",
     "text": [
      "Dataset contains 404289 questions.\n"
     ]
    },
    {
     "data": {
      "text/html": [
       "<div>\n",
       "<style scoped>\n",
       "    .dataframe tbody tr th:only-of-type {\n",
       "        vertical-align: middle;\n",
       "    }\n",
       "\n",
       "    .dataframe tbody tr th {\n",
       "        vertical-align: top;\n",
       "    }\n",
       "\n",
       "    .dataframe thead th {\n",
       "        text-align: right;\n",
       "    }\n",
       "</style>\n",
       "<table border=\"1\" class=\"dataframe\">\n",
       "  <thead>\n",
       "    <tr style=\"text-align: right;\">\n",
       "      <th></th>\n",
       "      <th>Question</th>\n",
       "    </tr>\n",
       "  </thead>\n",
       "  <tbody>\n",
       "    <tr>\n",
       "      <th>0</th>\n",
       "      <td>What is the step by step guide to invest in sh...</td>\n",
       "    </tr>\n",
       "    <tr>\n",
       "      <th>1</th>\n",
       "      <td>What is the story of Kohinoor (Koh-i-Noor) Dia...</td>\n",
       "    </tr>\n",
       "    <tr>\n",
       "      <th>2</th>\n",
       "      <td>How can I increase the speed of my internet co...</td>\n",
       "    </tr>\n",
       "    <tr>\n",
       "      <th>3</th>\n",
       "      <td>Why am I mentally very lonely? How can I solve...</td>\n",
       "    </tr>\n",
       "    <tr>\n",
       "      <th>4</th>\n",
       "      <td>Which one dissolve in water quikly sugar, salt...</td>\n",
       "    </tr>\n",
       "  </tbody>\n",
       "</table>\n",
       "</div>"
      ],
      "text/plain": [
       "                                            Question\n",
       "0  What is the step by step guide to invest in sh...\n",
       "1  What is the story of Kohinoor (Koh-i-Noor) Dia...\n",
       "2  How can I increase the speed of my internet co...\n",
       "3  Why am I mentally very lonely? How can I solve...\n",
       "4  Which one dissolve in water quikly sugar, salt..."
      ]
     },
     "execution_count": 2,
     "metadata": {},
     "output_type": "execute_result"
    }
   ],
   "source": [
    "\n",
    "# Load the dataset\n",
    "quora = pd.read_csv('quora_questions.csv')\n",
    "\n",
    "# Quick data overview\n",
    "print(f\"Dataset contains {quora.shape[0]} questions.\")\n",
    "quora.head()\n",
    "    "
   ]
  },
  {
   "cell_type": "markdown",
   "id": "be5b7b2f",
   "metadata": {},
   "source": [
    "\n",
    "## 🧹 Data Cleaning\n",
    "\n",
    "We'll check for missing or invalid values and clean the dataset for analysis.\n"
   ]
  },
  {
   "cell_type": "code",
   "execution_count": 3,
   "id": "1feca2cd",
   "metadata": {},
   "outputs": [
    {
     "name": "stdout",
     "output_type": "stream",
     "text": [
      "Remaining questions after cleaning: 404289\n"
     ]
    }
   ],
   "source": [
    "\n",
    "# Drop rows with missing questions\n",
    "quora.dropna(subset=['Question'], inplace=True)\n",
    "\n",
    "# Report remaining data\n",
    "print(f\"Remaining questions after cleaning: {quora.shape[0]}\")\n",
    "    "
   ]
  },
  {
   "cell_type": "markdown",
   "id": "2474721a",
   "metadata": {},
   "source": [
    "\n",
    "## ✂️ Text Preprocessing\n",
    "\n",
    "Using `CountVectorizer` for LDA and `TfidfVectorizer` for NMF.\n"
   ]
  },
  {
   "cell_type": "code",
   "execution_count": 4,
   "id": "d094aefc",
   "metadata": {},
   "outputs": [
    {
     "name": "stdout",
     "output_type": "stream",
     "text": [
      "Count Vectorizer shape: (404289, 14607)\n",
      "TF-IDF Vectorizer shape: (404289, 14607)\n"
     ]
    }
   ],
   "source": [
    "\n",
    "# Vectorizing the text data\n",
    "count_vectorizer = CountVectorizer(max_df=0.9, min_df=10, stop_words='english')\n",
    "tfidf_vectorizer = TfidfVectorizer(max_df=0.9, min_df=10, stop_words='english')\n",
    "\n",
    "dtm_count = count_vectorizer.fit_transform(quora['Question'])\n",
    "dtm_tfidf = tfidf_vectorizer.fit_transform(quora['Question'])\n",
    "\n",
    "print(f\"Count Vectorizer shape: {dtm_count.shape}\")\n",
    "print(f\"TF-IDF Vectorizer shape: {dtm_tfidf.shape}\")\n",
    "    "
   ]
  },
  {
   "cell_type": "markdown",
   "id": "dca91903",
   "metadata": {},
   "source": [
    "\n",
    "## 🧠 LDA Model\n",
    "\n",
    "Applying Latent Dirichlet Allocation to identify 20 topics.\n"
   ]
  },
  {
   "cell_type": "code",
   "execution_count": 5,
   "id": "dff196f0",
   "metadata": {},
   "outputs": [
    {
     "name": "stdout",
     "output_type": "stream",
     "text": [
      "LDA Topics:\n",
      "Topic 1:\n",
      "mind, need, want, like, don, really, feel, does, start, know\n",
      "Topic 2:\n",
      "iphone, series, looking, tv, music, worth, interesting, look, does, new\n",
      "Topic 3:\n",
      "know, girlfriend, friend, tell, favorite, guy, books, read, girl, love\n",
      "Topic 4:\n",
      "countries, light, writing, gmail, effects, email, password, car, country, change\n",
      "Topic 5:\n",
      "places, happen, pakistan, india, going, war, things, day, did, world\n"
     ]
    }
   ],
   "source": [
    "\n",
    "# LDA Model\n",
    "lda_model = LatentDirichletAllocation(n_components=20, random_state=42, learning_method='batch', n_jobs=-1)\n",
    "lda_model.fit(dtm_count)\n",
    "\n",
    "# Extract topics\n",
    "print(\"LDA Topics:\")\n",
    "for index, topic in enumerate(lda_model.components_[:5]):  # Displaying top 5 topics\n",
    "    print(f\"Topic {index + 1}:\")\n",
    "    print(\", \".join([count_vectorizer.get_feature_names_out()[i] for i in topic.argsort()[-10:]]))\n",
    "    "
   ]
  },
  {
   "cell_type": "markdown",
   "id": "0e887ac3",
   "metadata": {},
   "source": [
    "\n",
    "## 🧠 NMF Model\n",
    "\n",
    "Applying Non-Negative Matrix Factorization to identify 20 topics.\n"
   ]
  },
  {
   "cell_type": "code",
   "execution_count": 6,
   "id": "60972713",
   "metadata": {},
   "outputs": [
    {
     "ename": "SyntaxError",
     "evalue": "EOL while scanning string literal (4290993574.py, line 6)",
     "output_type": "error",
     "traceback": [
      "\u001b[0;36m  Cell \u001b[0;32mIn[6], line 6\u001b[0;36m\u001b[0m\n\u001b[0;31m    print(\"\u001b[0m\n\u001b[0m           ^\u001b[0m\n\u001b[0;31mSyntaxError\u001b[0m\u001b[0;31m:\u001b[0m EOL while scanning string literal\n"
     ]
    }
   ],
   "source": [
    "\n",
    "# NMF Model\n",
    "nmf_model = NMF(n_components=20, random_state=42)\n",
    "nmf_model.fit(dtm_tfidf)\n",
    "\n",
    "# Extract topics\n",
    "print(\"\n",
    "NMF Topics:\")\n",
    "for index, topic in enumerate(nmf_model.components_[:5]):  # Displaying top 5 topics\n",
    "    print(f\"Topic {index + 1}:\")\n",
    "    print(\", \".join([tfidf_vectorizer.get_feature_names_out()[i] for i in topic.argsort()[-10:]]))\n",
    "    "
   ]
  },
  {
   "cell_type": "markdown",
   "id": "91a6af13",
   "metadata": {},
   "source": [
    "\n",
    "## 📊 Topic Visualization\n",
    "\n",
    "Visualizing the topics using word clouds for both LDA and NMF.\n"
   ]
  },
  {
   "cell_type": "code",
   "execution_count": null,
   "id": "654f4cd9",
   "metadata": {},
   "outputs": [],
   "source": [
    "\n",
    "# Word Cloud for LDA Topics\n",
    "for index, topic in enumerate(lda_model.components_[:5]):\n",
    "    wordcloud = WordCloud(background_color='white', colormap='viridis', max_words=20).generate_from_frequencies(\n",
    "        {count_vectorizer.get_feature_names_out()[i]: topic[i] for i in topic.argsort()[-20:]}\n",
    "    )\n",
    "    plt.figure(figsize=(10, 6))\n",
    "    plt.imshow(wordcloud, interpolation='bilinear')\n",
    "    plt.axis(\"off\")\n",
    "    plt.title(f\"LDA Topic {index + 1}\", fontsize=16, fontweight='bold')\n",
    "    plt.show()\n",
    "\n",
    "# Word Cloud for NMF Topics\n",
    "for index, topic in enumerate(nmf_model.components_[:5]):\n",
    "    wordcloud = WordCloud(background_color='white', colormap='plasma', max_words=20).generate_from_frequencies(\n",
    "        {tfidf_vectorizer.get_feature_names_out()[i]: topic[i] for i in topic.argsort()[-20:]}\n",
    "    )\n",
    "    plt.figure(figsize=(10, 6))\n",
    "    plt.imshow(wordcloud, interpolation='bilinear')\n",
    "    plt.axis(\"off\")\n",
    "    plt.title(f\"NMF Topic {index + 1}\", fontsize=16, fontweight='bold')\n",
    "    plt.show()\n",
    "    "
   ]
  },
  {
   "cell_type": "markdown",
   "id": "81266702",
   "metadata": {},
   "source": [
    "\n",
    "## 🔍 Comparison of LDA and NMF Topics\n",
    "\n",
    "A table comparing the top 5 topics generated by LDA and NMF.\n"
   ]
  },
  {
   "cell_type": "code",
   "execution_count": null,
   "id": "b6b67345",
   "metadata": {},
   "outputs": [],
   "source": [
    "\n",
    "# Create a comparison table\n",
    "comparison_df = pd.DataFrame({\n",
    "    \"LDA Topics\": [\n",
    "        \", \".join([count_vectorizer.get_feature_names_out()[i] for i in topic.argsort()[-10:]])\n",
    "        for topic in lda_model.components_[:5]\n",
    "    ],\n",
    "    \"NMF Topics\": [\n",
    "        \", \".join([tfidf_vectorizer.get_feature_names_out()[i] for i in topic.argsort()[-10:]])\n",
    "        for topic in nmf_model.components_[:5]\n",
    "    ]\n",
    "})\n",
    "\n",
    "print(comparison_df)\n",
    "    "
   ]
  },
  {
   "cell_type": "markdown",
   "id": "485a6899",
   "metadata": {},
   "source": [
    "\n",
    "## 📝 Conclusions\n",
    "\n",
    "- **LDA:** Topics are probabilistic, with some overlap in themes.\n",
    "- **NMF:** Topics are more distinct, with clearer separation between themes.\n",
    "- **Next Steps:** Consider further tuning the number of topics or preprocessing to improve results.\n",
    "\n",
    "---\n",
    "This concludes the analysis of Topic Modeling using LDA and NMF.\n"
   ]
  }
 ],
 "metadata": {
  "kernelspec": {
   "display_name": "Python 3 (ipykernel)",
   "language": "python",
   "name": "python3"
  },
  "language_info": {
   "codemirror_mode": {
    "name": "ipython",
    "version": 3
   },
   "file_extension": ".py",
   "mimetype": "text/x-python",
   "name": "python",
   "nbconvert_exporter": "python",
   "pygments_lexer": "ipython3",
   "version": "3.9.6"
  }
 },
 "nbformat": 4,
 "nbformat_minor": 5
}
