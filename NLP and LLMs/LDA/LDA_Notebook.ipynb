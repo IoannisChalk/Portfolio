{
 "cells": [
  {
   "cell_type": "markdown",
   "id": "342af441",
   "metadata": {},
   "source": [
    "\n",
    "# Topic Modeling with Latent Dirichlet Allocation (LDA)\n",
    "This project applies Topic Modeling using LDA to extract meaningful topics from a dataset of articles. The workflow includes text preprocessing, model training, and topic evaluation.\n"
   ]
  },
  {
   "cell_type": "code",
   "execution_count": null,
   "id": "988248b9",
   "metadata": {},
   "outputs": [],
   "source": [
    "\n",
    "# Importing Libraries\n",
    "import pandas as pd\n",
    "import numpy as np\n",
    "import matplotlib.pyplot as plt\n",
    "import seaborn as sns\n",
    "from sklearn.feature_extraction.text import CountVectorizer\n",
    "from sklearn.decomposition import LatentDirichletAllocation\n",
    "    "
   ]
  },
  {
   "cell_type": "code",
   "execution_count": null,
   "id": "683cec8c",
   "metadata": {},
   "outputs": [],
   "source": [
    "\n",
    "# Loading the Dataset\n",
    "npr = pd.read_csv('npr.csv')\n",
    "npr.head()\n",
    "    "
   ]
  },
  {
   "cell_type": "code",
   "execution_count": null,
   "id": "ae919171",
   "metadata": {},
   "outputs": [],
   "source": [
    "\n",
    "# Exploring the Dataset\n",
    "print(\"Sample Article:\")\n",
    "print(npr['Article'][0])\n",
    "\n",
    "# Checking for Missing Values\n",
    "print(f\"Missing Values: {npr.isnull().sum()}\")\n",
    "\n",
    "# Drop missing values if needed\n",
    "npr.dropna(inplace=True)\n",
    "    "
   ]
  },
  {
   "cell_type": "code",
   "execution_count": null,
   "id": "81e3b4d6",
   "metadata": {},
   "outputs": [],
   "source": [
    "\n",
    "# Vectorizing the Text Data\n",
    "cv = CountVectorizer(max_df=0.9, min_df=2, stop_words='english')\n",
    "dtm = cv.fit_transform(npr['Article'])\n",
    "\n",
    "# Shape of Document-Term Matrix\n",
    "print(f\"Shape of DTM: {dtm.shape}\")\n",
    "    "
   ]
  },
  {
   "cell_type": "code",
   "execution_count": null,
   "id": "9535afd4",
   "metadata": {},
   "outputs": [],
   "source": [
    "\n",
    "# Training LDA Model\n",
    "lda = LatentDirichletAllocation(n_components=5, random_state=42)\n",
    "lda.fit(dtm)\n",
    "\n",
    "# Extracting Topics\n",
    "for i, topic in enumerate(lda.components_):\n",
    "    print(f\"Topic {i}:\")\n",
    "    print([cv.get_feature_names_out()[index] for index in topic.argsort()[-10:]])\n",
    "    "
   ]
  },
  {
   "cell_type": "code",
   "execution_count": null,
   "id": "76da5f58",
   "metadata": {},
   "outputs": [],
   "source": [
    "\n",
    "# Assigning Dominant Topics to Articles\n",
    "topic_results = lda.transform(dtm)\n",
    "npr['Topic'] = topic_results.argmax(axis=1)\n",
    "\n",
    "# Display Articles with Assigned Topics\n",
    "npr[['Article', 'Topic']].head()\n",
    "    "
   ]
  },
  {
   "cell_type": "code",
   "execution_count": null,
   "id": "c847bc7c",
   "metadata": {},
   "outputs": [],
   "source": [
    "\n",
    "# Visualizing Topic Distribution\n",
    "sns.countplot(x='Topic', data=npr)\n",
    "plt.title(\"Distribution of Topics Across Articles\")\n",
    "plt.show()\n",
    "    "
   ]
  },
  {
   "cell_type": "markdown",
   "id": "84b11624",
   "metadata": {},
   "source": [
    "\n",
    "### Conclusions\n",
    "- The model successfully grouped articles into 5 distinct topics.\n",
    "- Topics were identified based on frequently occurring keywords.\n",
    "- Further fine-tuning of the preprocessing steps or increasing the number of topics could enhance results.\n"
   ]
  }
 ],
 "metadata": {},
 "nbformat": 4,
 "nbformat_minor": 5
}