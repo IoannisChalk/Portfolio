{
 "cells": [
  {
   "cell_type": "markdown",
   "id": "5c31dceb",
   "metadata": {},
   "source": [
    "# Spam or Ham SMS Classification Project"
   ]
  },
  {
   "cell_type": "markdown",
   "id": "f28abd51-4780-48a8-87fc-ca192a96c938",
   "metadata": {},
   "source": [
    "## Introduction\n",
    "This project involves classifying SMS messages as either \"Spam\" or \"Ham\" \n",
    "using natural language processing techniques and machine learning models."
   ]
  },
  {
   "cell_type": "markdown",
   "id": "580105e8-e717-4b44-b9a2-8a59ef4ca3ae",
   "metadata": {},
   "source": [
    "### Goals:\n",
    "-Data exploration and preparation\n",
    "\n",
    "-Model creation and evaluation"
   ]
  },
  {
   "cell_type": "code",
   "execution_count": 24,
   "id": "a416d4f8-88a5-4317-9dd5-18576a6a3041",
   "metadata": {},
   "outputs": [],
   "source": [
    "# Import necessary libraries\n",
    "import numpy as np\n",
    "import pandas as pd\n",
    "import matplotlib.pyplot as plt\n",
    "import seaborn as sns\n",
    "from sklearn.model_selection import train_test_split\n",
    "from sklearn.feature_extraction.text import TfidfVectorizer\n",
    "from sklearn.naive_bayes import MultinomialNB\n",
    "from sklearn.svm import SVC\n",
    "from sklearn.metrics import classification_report, confusion_matrix, accuracy_score, roc_curve, auc\n",
    "from imblearn.over_sampling import SMOTE\n",
    "import re\n",
    "from nltk.corpus import stopwords"
   ]
  },
  {
   "cell_type": "code",
   "execution_count": 25,
   "id": "6d1a24d0-fcd7-45ab-b893-8af6be15a478",
   "metadata": {},
   "outputs": [],
   "source": [
    "# Load the dataset\n",
    "df = pd.read_csv('../TextFiles/smsspamcollection.tsv', sep='\\t', names=['label', 'message', 'length', 'punct'], skiprows=1)"
   ]
  },
  {
   "cell_type": "code",
   "execution_count": 26,
   "id": "0e51fd5d-e2bb-40fd-a732-e2da8e7649b0",
   "metadata": {},
   "outputs": [
    {
     "data": {
      "text/html": [
       "<div>\n",
       "<style scoped>\n",
       "    .dataframe tbody tr th:only-of-type {\n",
       "        vertical-align: middle;\n",
       "    }\n",
       "\n",
       "    .dataframe tbody tr th {\n",
       "        vertical-align: top;\n",
       "    }\n",
       "\n",
       "    .dataframe thead th {\n",
       "        text-align: right;\n",
       "    }\n",
       "</style>\n",
       "<table border=\"1\" class=\"dataframe\">\n",
       "  <thead>\n",
       "    <tr style=\"text-align: right;\">\n",
       "      <th></th>\n",
       "      <th>label</th>\n",
       "      <th>message</th>\n",
       "      <th>length</th>\n",
       "      <th>punct</th>\n",
       "    </tr>\n",
       "  </thead>\n",
       "  <tbody>\n",
       "    <tr>\n",
       "      <th>0</th>\n",
       "      <td>ham</td>\n",
       "      <td>Go until jurong point, crazy.. Available only ...</td>\n",
       "      <td>111</td>\n",
       "      <td>9</td>\n",
       "    </tr>\n",
       "    <tr>\n",
       "      <th>1</th>\n",
       "      <td>ham</td>\n",
       "      <td>Ok lar... Joking wif u oni...</td>\n",
       "      <td>29</td>\n",
       "      <td>6</td>\n",
       "    </tr>\n",
       "    <tr>\n",
       "      <th>2</th>\n",
       "      <td>spam</td>\n",
       "      <td>Free entry in 2 a wkly comp to win FA Cup fina...</td>\n",
       "      <td>155</td>\n",
       "      <td>6</td>\n",
       "    </tr>\n",
       "    <tr>\n",
       "      <th>3</th>\n",
       "      <td>ham</td>\n",
       "      <td>U dun say so early hor... U c already then say...</td>\n",
       "      <td>49</td>\n",
       "      <td>6</td>\n",
       "    </tr>\n",
       "    <tr>\n",
       "      <th>4</th>\n",
       "      <td>ham</td>\n",
       "      <td>Nah I don't think he goes to usf, he lives aro...</td>\n",
       "      <td>61</td>\n",
       "      <td>2</td>\n",
       "    </tr>\n",
       "  </tbody>\n",
       "</table>\n",
       "</div>"
      ],
      "text/plain": [
       "  label                                            message  length  punct\n",
       "0   ham  Go until jurong point, crazy.. Available only ...     111      9\n",
       "1   ham                      Ok lar... Joking wif u oni...      29      6\n",
       "2  spam  Free entry in 2 a wkly comp to win FA Cup fina...     155      6\n",
       "3   ham  U dun say so early hor... U c already then say...      49      6\n",
       "4   ham  Nah I don't think he goes to usf, he lives aro...      61      2"
      ]
     },
     "execution_count": 26,
     "metadata": {},
     "output_type": "execute_result"
    }
   ],
   "source": [
    "df.head()"
   ]
  },
  {
   "cell_type": "code",
   "execution_count": 27,
   "id": "5bf2ffbe-b3df-45aa-9216-02a985f996c1",
   "metadata": {},
   "outputs": [],
   "source": [
    "# Clean Text Function\n",
    "def clean_text(text):\n",
    "    text = re.sub(r'\\W', ' ', text)  # Remove special characters\n",
    "    text = re.sub(r'\\s+', ' ', text)  # Remove extra whitespace\n",
    "    text = text.lower().strip()  # Convert to lowercase and trim\n",
    "    return text"
   ]
  },
  {
   "cell_type": "code",
   "execution_count": 28,
   "id": "3d257b03-0ca3-441e-baa2-4d83fad381b8",
   "metadata": {},
   "outputs": [],
   "source": [
    "# Apply text cleaning\n",
    "df['clean_message'] = df['message'].apply(clean_text)"
   ]
  },
  {
   "cell_type": "code",
   "execution_count": 29,
   "id": "2d3c043b-42d0-4ac8-bb6f-0f81b0a57433",
   "metadata": {},
   "outputs": [
    {
     "data": {
      "text/html": [
       "<div>\n",
       "<style scoped>\n",
       "    .dataframe tbody tr th:only-of-type {\n",
       "        vertical-align: middle;\n",
       "    }\n",
       "\n",
       "    .dataframe tbody tr th {\n",
       "        vertical-align: top;\n",
       "    }\n",
       "\n",
       "    .dataframe thead th {\n",
       "        text-align: right;\n",
       "    }\n",
       "</style>\n",
       "<table border=\"1\" class=\"dataframe\">\n",
       "  <thead>\n",
       "    <tr style=\"text-align: right;\">\n",
       "      <th></th>\n",
       "      <th>label</th>\n",
       "      <th>message</th>\n",
       "      <th>length</th>\n",
       "      <th>punct</th>\n",
       "      <th>clean_message</th>\n",
       "    </tr>\n",
       "  </thead>\n",
       "  <tbody>\n",
       "    <tr>\n",
       "      <th>0</th>\n",
       "      <td>ham</td>\n",
       "      <td>Go until jurong point, crazy.. Available only ...</td>\n",
       "      <td>111</td>\n",
       "      <td>9</td>\n",
       "      <td>go until jurong point crazy available only in ...</td>\n",
       "    </tr>\n",
       "    <tr>\n",
       "      <th>1</th>\n",
       "      <td>ham</td>\n",
       "      <td>Ok lar... Joking wif u oni...</td>\n",
       "      <td>29</td>\n",
       "      <td>6</td>\n",
       "      <td>ok lar joking wif u oni</td>\n",
       "    </tr>\n",
       "    <tr>\n",
       "      <th>2</th>\n",
       "      <td>spam</td>\n",
       "      <td>Free entry in 2 a wkly comp to win FA Cup fina...</td>\n",
       "      <td>155</td>\n",
       "      <td>6</td>\n",
       "      <td>free entry in 2 a wkly comp to win fa cup fina...</td>\n",
       "    </tr>\n",
       "    <tr>\n",
       "      <th>3</th>\n",
       "      <td>ham</td>\n",
       "      <td>U dun say so early hor... U c already then say...</td>\n",
       "      <td>49</td>\n",
       "      <td>6</td>\n",
       "      <td>u dun say so early hor u c already then say</td>\n",
       "    </tr>\n",
       "    <tr>\n",
       "      <th>4</th>\n",
       "      <td>ham</td>\n",
       "      <td>Nah I don't think he goes to usf, he lives aro...</td>\n",
       "      <td>61</td>\n",
       "      <td>2</td>\n",
       "      <td>nah i don t think he goes to usf he lives arou...</td>\n",
       "    </tr>\n",
       "  </tbody>\n",
       "</table>\n",
       "</div>"
      ],
      "text/plain": [
       "  label                                            message  length  punct  \\\n",
       "0   ham  Go until jurong point, crazy.. Available only ...     111      9   \n",
       "1   ham                      Ok lar... Joking wif u oni...      29      6   \n",
       "2  spam  Free entry in 2 a wkly comp to win FA Cup fina...     155      6   \n",
       "3   ham  U dun say so early hor... U c already then say...      49      6   \n",
       "4   ham  Nah I don't think he goes to usf, he lives aro...      61      2   \n",
       "\n",
       "                                       clean_message  \n",
       "0  go until jurong point crazy available only in ...  \n",
       "1                            ok lar joking wif u oni  \n",
       "2  free entry in 2 a wkly comp to win fa cup fina...  \n",
       "3        u dun say so early hor u c already then say  \n",
       "4  nah i don t think he goes to usf he lives arou...  "
      ]
     },
     "execution_count": 29,
     "metadata": {},
     "output_type": "execute_result"
    }
   ],
   "source": [
    "# Inspect the first few rows\n",
    "df.head()"
   ]
  },
  {
   "cell_type": "code",
   "execution_count": 30,
   "id": "b50709c2-423a-43e0-90ff-0d37a83838c5",
   "metadata": {},
   "outputs": [
    {
     "name": "stdout",
     "output_type": "stream",
     "text": [
      "Missing values: \n",
      "label            0\n",
      "message          0\n",
      "length           0\n",
      "punct            0\n",
      "clean_message    0\n",
      "dtype: int64\n"
     ]
    }
   ],
   "source": [
    "# Check for missing values\n",
    "print(f\"Missing values: \\n{df.isnull().sum()}\")"
   ]
  },
  {
   "cell_type": "code",
   "execution_count": 31,
   "id": "547092f7-3559-4dc3-b271-4a2a745ec9d1",
   "metadata": {},
   "outputs": [
    {
     "data": {
      "image/png": "[encoded data removed]",
      "text/plain": [
       "<Figure size 640x480 with 1 Axes>"
      ]
     },
     "metadata": {},
     "output_type": "display_data"
    }
   ],
   "source": [
    "# Plot the distribution of labels\n",
    "sns.countplot(x='label', data=df)\n",
    "plt.title('Label Distribution')\n",
    "plt.show()"
   ]
  },
  {
   "cell_type": "code",
   "execution_count": 32,
   "id": "6a57c03a-0dac-4aa9-93b2-74f6d3c78794",
   "metadata": {},
   "outputs": [],
   "source": [
    "# Analyze message length\n",
    "df['length'] = df['message'].apply(len)"
   ]
  },
  {
   "cell_type": "code",
   "execution_count": 33,
   "id": "b72eb123-503c-44d2-ae66-cfecf3099405",
   "metadata": {},
   "outputs": [
    {
     "data": {
      "image/png": "[encoded data removed]",
      "text/plain": [
       "<Figure size 640x480 with 1 Axes>"
      ]
     },
     "metadata": {},
     "output_type": "display_data"
    }
   ],
   "source": [
    "# Plot message length histogram\n",
    "plt.hist(df['length'], bins=50, color='blue')\n",
    "plt.title('Message Length Distribution')\n",
    "plt.show()"
   ]
  },
  {
   "cell_type": "code",
   "execution_count": 34,
   "id": "b884480e-6ede-4e21-9987-40a12233014d",
   "metadata": {},
   "outputs": [],
   "source": [
    "# Split the data into training and test sets\n",
    "X = df['clean_message']\n",
    "y = df['label']\n",
    "X_train, X_test, y_train, y_test = train_test_split(X, y, test_size=0.2, random_state=42)"
   ]
  },
  {
   "cell_type": "code",
   "execution_count": 35,
   "id": "565f300c-a080-4207-94d8-0bc7563acd37",
   "metadata": {},
   "outputs": [],
   "source": [
    "# Convert text data into TF-IDF features\n",
    "vectorizer = TfidfVectorizer()\n",
    "X_train_transformed = vectorizer.fit_transform(X_train)\n",
    "X_test_transformed = vectorizer.transform(X_test)"
   ]
  },
  {
   "cell_type": "code",
   "execution_count": 36,
   "id": "98761cbb-1d5f-4ac4-ad52-105974bb6ddd",
   "metadata": {},
   "outputs": [],
   "source": [
    "# Balance the dataset using SMOTE\n",
    "smote = SMOTE(random_state=42)\n",
    "X_train_balanced, y_train_balanced = smote.fit_resample(X_train_transformed, y_train)"
   ]
  },
  {
   "cell_type": "code",
   "execution_count": 37,
   "id": "51e62f6e-792c-42b5-86f2-a1f92fde7f8b",
   "metadata": {},
   "outputs": [],
   "source": [
    "# Train and evaluate models\n",
    "\n",
    "# Multinomial Naive Bayes\n",
    "nb_model = MultinomialNB()\n",
    "nb_model.fit(X_train_balanced, y_train_balanced)\n",
    "nb_predictions = nb_model.predict(X_test_transformed)"
   ]
  },
  {
   "cell_type": "code",
   "execution_count": 38,
   "id": "4117695e-2bec-4ab0-bcf2-c06d12c24aa8",
   "metadata": {},
   "outputs": [
    {
     "name": "stdout",
     "output_type": "stream",
     "text": [
      "MultinomialNB Results:\n",
      "[[953  13]\n",
      " [  6 143]]\n",
      "              precision    recall  f1-score   support\n",
      "\n",
      "         ham       0.99      0.99      0.99       966\n",
      "        spam       0.92      0.96      0.94       149\n",
      "\n",
      "    accuracy                           0.98      1115\n",
      "   macro avg       0.96      0.97      0.96      1115\n",
      "weighted avg       0.98      0.98      0.98      1115\n",
      "\n",
      "Accuracy: 0.9829596412556054\n",
      "\n"
     ]
    }
   ],
   "source": [
    "# Evaluate MultinomialNB\n",
    "print(\"MultinomialNB Results:\")\n",
    "print(confusion_matrix(y_test, nb_predictions))\n",
    "print(classification_report(y_test, nb_predictions))\n",
    "print(f\"Accuracy: {accuracy_score(y_test, nb_predictions)}\\n\")"
   ]
  },
  {
   "cell_type": "code",
   "execution_count": 40,
   "id": "1ebefc73-9313-4dbd-bb1a-bceca866ec01",
   "metadata": {},
   "outputs": [],
   "source": [
    "# Support Vector Machine\n",
    "svc_model = SVC(gamma='auto', probability=True)\n",
    "svc_model.fit(X_train_balanced, y_train_balanced)\n",
    "svc_predictions = svc_model.predict(X_test_transformed)"
   ]
  },
  {
   "cell_type": "code",
   "execution_count": 41,
   "id": "7e18cfe0-5ca7-48f1-89cd-01ca4833b230",
   "metadata": {},
   "outputs": [
    {
     "name": "stdout",
     "output_type": "stream",
     "text": [
      "SVC Results:\n",
      "[[960   6]\n",
      " [ 38 111]]\n",
      "              precision    recall  f1-score   support\n",
      "\n",
      "         ham       0.96      0.99      0.98       966\n",
      "        spam       0.95      0.74      0.83       149\n",
      "\n",
      "    accuracy                           0.96      1115\n",
      "   macro avg       0.96      0.87      0.91      1115\n",
      "weighted avg       0.96      0.96      0.96      1115\n",
      "\n",
      "Accuracy: 0.9605381165919282\n",
      "\n"
     ]
    }
   ],
   "source": [
    "# Evaluate SVC\n",
    "print(\"SVC Results:\")\n",
    "print(confusion_matrix(y_test, svc_predictions))\n",
    "print(classification_report(y_test, svc_predictions))\n",
    "print(f\"Accuracy: {accuracy_score(y_test, svc_predictions)}\\n\")\n"
   ]
  },
  {
   "cell_type": "code",
   "execution_count": 42,
   "id": "862cc23a-69a6-44a2-adb8-898fcc8c90ee",
   "metadata": {},
   "outputs": [],
   "source": [
    "# Compare model performances\n",
    "models = ['MultinomialNB', 'SVC']\n",
    "accuracies = [accuracy_score(y_test, nb_predictions), accuracy_score(y_test, svc_predictions)]"
   ]
  },
  {
   "cell_type": "code",
   "execution_count": 43,
   "id": "074a5c4f-3ef6-4933-a706-4d61c4e8458b",
   "metadata": {},
   "outputs": [
    {
     "data": {
      "image/png": "[encoded data removed]",
      "text/plain": [
       "<Figure size 640x480 with 1 Axes>"
      ]
     },
     "metadata": {},
     "output_type": "display_data"
    }
   ],
   "source": [
    "plt.bar(models, accuracies, color=['skyblue', 'orange'])\n",
    "plt.title('Model Accuracy Comparison')\n",
    "plt.ylabel('Accuracy')\n",
    "plt.show()"
   ]
  },
  {
   "cell_type": "code",
   "execution_count": 44,
   "id": "d26d67d7-2e07-40bf-a5ee-679150f876ab",
   "metadata": {},
   "outputs": [],
   "source": [
    "# Calculate ROC curves and AUC scores\n",
    "nb_probs = nb_model.predict_proba(X_test_transformed)[:, 1]\n",
    "svc_probs = svc_model.decision_function(X_test_transformed)"
   ]
  },
  {
   "cell_type": "code",
   "execution_count": 45,
   "id": "8070c3f2-10a7-427c-a771-3f0b80b81711",
   "metadata": {},
   "outputs": [],
   "source": [
    "fpr_nb, tpr_nb, _ = roc_curve(y_test.map({'ham': 0, 'spam': 1}), nb_probs)\n",
    "fpr_svc, tpr_svc, _ = roc_curve(y_test.map({'ham': 0, 'spam': 1}), svc_probs)"
   ]
  },
  {
   "cell_type": "code",
   "execution_count": 46,
   "id": "0d81293b-85c8-468e-baff-0f7a01eb5b6d",
   "metadata": {},
   "outputs": [],
   "source": [
    "auc_nb = auc(fpr_nb, tpr_nb)\n",
    "auc_svc = auc(fpr_svc, tpr_svc)\n"
   ]
  },
  {
   "cell_type": "code",
   "execution_count": 47,
   "id": "55955558-b115-408f-bac4-1aaab3cbeefd",
   "metadata": {},
   "outputs": [
    {
     "data": {
      "image/png": "[encoded data removed]",
      "text/plain": [
       "<Figure size 1000x600 with 1 Axes>"
      ]
     },
     "metadata": {},
     "output_type": "display_data"
    }
   ],
   "source": [
    "# Plot ROC curves\n",
    "plt.figure(figsize=(10, 6))\n",
    "plt.plot(fpr_nb, tpr_nb, label=f'Naive Bayes (AUC = {auc_nb:.2f})')\n",
    "plt.plot(fpr_svc, tpr_svc, label=f'SVC (AUC = {auc_svc:.2f})')\n",
    "plt.plot([0, 1], [0, 1], color='gray', linestyle='--')\n",
    "\n",
    "plt.title('ROC Curve Comparison')\n",
    "plt.xlabel('False Positive Rate')\n",
    "plt.ylabel('True Positive Rate')\n",
    "plt.legend(loc='lower right')\n",
    "plt.grid(True)\n",
    "plt.show()"
   ]
  },
  {
   "cell_type": "code",
   "execution_count": 51,
   "id": "b03a7a78-0f31-4c70-a612-719f54db16d1",
   "metadata": {},
   "outputs": [
    {
     "name": "stdout",
     "output_type": "stream",
     "text": [
      "\n",
      "Top 10 Important Features (MultinomialNB - Spam Class):\n",
      "to: -4.49\n",
      "call: -4.70\n",
      "free: -4.88\n",
      "your: -5.00\n",
      "now: -5.27\n",
      "you: -5.27\n",
      "or: -5.29\n",
      "for: -5.35\n",
      "mobile: -5.35\n",
      "txt: -5.36\n"
     ]
    }
   ],
   "source": [
    "# Feature Importance for MultinomialNB\n",
    "feature_names = vectorizer.get_feature_names_out()\n",
    "\n",
    "# Extract the log probabilities for the spam class (index 1)\n",
    "sorted_indices = np.argsort(nb_model.feature_log_prob_[1])[::-1]\n",
    "\n",
    "# Display Top 10 Important Features\n",
    "top_n = 10\n",
    "print(\"\\nTop 10 Important Features (MultinomialNB - Spam Class):\")\n",
    "for i in range(top_n):\n",
    "    print(f\"{feature_names[sorted_indices[i]]}: {nb_model.feature_log_prob_[1][sorted_indices[i]]:.2f}\")"
   ]
  },
  {
   "cell_type": "markdown",
   "id": "ebe0a61b-bd6e-4b98-871a-f4e3c894392e",
   "metadata": {},
   "source": [
    "## Conclusion\n",
    "This project explored SMS message classification using Natural Language Processing and Machine Learning models. We successfully built and evaluated two models: Multinomial Naive Bayes and Support Vector Classifier (SVC). The models were trained on a preprocessed dataset using TF-IDF vectorization and balanced with SMOTE. While SVC showed superior performance with a higher AUC score, Naive Bayes offered a simpler and faster solution with competitive results. The analysis highlighted key spam-indicative words and demonstrated the potential of automated spam detection systems for real-world applications. Future improvements could include experimenting with more advanced models, feature engineering, and deploying the solution as a web service. "
   ]
  },
  {
   "cell_type": "code",
   "execution_count": null,
   "id": "f212e211-a019-4642-9915-9c4cff7a10f1",
   "metadata": {},
   "outputs": [],
   "source": []
  }
 ],
 "metadata": {
  "kernelspec": {
   "display_name": "Python (my_python_env)",
   "language": "python",
   "name": "my_python_env"
  },
  "language_info": {
   "codemirror_mode": {
    "name": "ipython",
    "version": 3
   },
   "file_extension": ".py",
   "mimetype": "text/x-python",
   "name": "python",
   "nbconvert_exporter": "python",
   "pygments_lexer": "ipython3",
   "version": "3.9.6"
  }
 },
 "nbformat": 4,
 "nbformat_minor": 5
}
